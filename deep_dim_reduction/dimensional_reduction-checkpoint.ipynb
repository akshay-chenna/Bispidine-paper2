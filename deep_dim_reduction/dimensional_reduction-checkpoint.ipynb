{
 "cells": [
  {
   "cell_type": "code",
   "execution_count": 1,
   "id": "3a421908-a3fe-4e68-8ce4-69442235d29a",
   "metadata": {},
   "outputs": [],
   "source": [
    "import torch\n",
    "import pyemma\n",
    "import numpy as np\n",
    "import seaborn as sns\n",
    "import torch.nn as nn\n",
    "import deeptime as dt\n",
    "from tqdm.notebook import tqdm\n",
    "import matplotlib.pyplot as plt\n",
    "from deeptime.util.torch import MLP\n",
    "from torch.utils.data import DataLoader"
   ]
  },
  {
   "cell_type": "code",
   "execution_count": 2,
   "id": "e9698f95-c15f-48ba-a194-bbe631641e08",
   "metadata": {},
   "outputs": [],
   "source": [
    "topology = './mdframe.pdb'\n",
    "traj_list = ['{}/md_corrected.xtc'.format(i) for i in range(641,651)]"
   ]
  },
  {
   "cell_type": "code",
   "execution_count": 3,
   "id": "7c5414e2-4058-4a2a-8835-650e1f3de7d8",
   "metadata": {
    "tags": []
   },
   "outputs": [
    {
     "data": {
      "application/json": {
       "ascii": false,
       "bar_format": null,
       "colour": null,
       "elapsed": 0.04839611053466797,
       "initial": 0,
       "n": 0,
       "ncols": 123,
       "nrows": 38,
       "postfix": null,
       "prefix": "Obtaining file info",
       "rate": null,
       "total": 10,
       "unit": "it",
       "unit_divisor": 1000,
       "unit_scale": false
      },
      "application/vnd.jupyter.widget-view+json": {
       "model_id": "",
       "version_major": 2,
       "version_minor": 0
      },
      "text/plain": [
       "Obtaining file info:   0%|                                                                          | 0/10 [00…"
      ]
     },
     "metadata": {},
     "output_type": "display_data"
    },
    {
     "data": {
      "application/json": {
       "ascii": false,
       "bar_format": null,
       "colour": null,
       "elapsed": 0.05691885948181152,
       "initial": 0,
       "n": 0,
       "ncols": 123,
       "nrows": 38,
       "postfix": null,
       "prefix": "getting output of FeatureReader",
       "rate": null,
       "total": 10,
       "unit": "it",
       "unit_divisor": 1000,
       "unit_scale": false
      },
      "application/vnd.jupyter.widget-view+json": {
       "model_id": "",
       "version_major": 2,
       "version_minor": 0
      },
      "text/plain": [
       "getting output of FeatureReader:   0%|                                                              | 0/10 [00…"
      ]
     },
     "metadata": {},
     "output_type": "display_data"
    }
   ],
   "source": [
    "featurizer = pyemma.coordinates.featurizer(topology)\n",
    "#ca_distance_pairs = featurizer.pairs(featurizer.select_Ca())\n",
    "#featurizer.add_distances(ca_distance_pairs, periodic=False)\n",
    "#featurizer.add_inverse_distances(ca_distance_pairs, periodic=False)\n",
    "featurizer.add_selection(featurizer.select_Ca()) # Selects coordinates of Ca\n",
    "coord_data = pyemma.coordinates.load(traj_list, features=featurizer,stride=10)"
   ]
  },
  {
   "cell_type": "code",
   "execution_count": 37,
   "id": "7cb0f65f-8fd9-4d70-b99c-5db7268f50dd",
   "metadata": {},
   "outputs": [
    {
     "name": "stderr",
     "output_type": "stream",
     "text": [
      "/home/chemical/phd/chz198152/.conda/envs/py310/lib/python3.10/site-packages/numpy/lib/npyio.py:501: VisibleDeprecationWarning: Creating an ndarray from ragged nested sequences (which is a list-or-tuple of lists-or-tuples-or ndarrays with different lengths or shapes) is deprecated. If you meant to do this, you must specify 'dtype=object' when creating the ndarray.\n",
      "  arr = np.asanyarray(arr)\n"
     ]
    }
   ],
   "source": [
    "#np.save('coord_data.npy',coord_data)"
   ]
  },
  {
   "cell_type": "code",
   "execution_count": 39,
   "id": "50454f60-3fad-4ec6-bcc3-b6d4063cdfd2",
   "metadata": {},
   "outputs": [],
   "source": [
    "#x = np.load('coord_data.npy',allow_pickle=True)"
   ]
  },
  {
   "cell_type": "code",
   "execution_count": 4,
   "id": "ba4f9d6e-409b-454b-acf5-245053485347",
   "metadata": {},
   "outputs": [
    {
     "name": "stdout",
     "output_type": "stream",
     "text": [
      "Using device cpu\n"
     ]
    }
   ],
   "source": [
    "if torch.cuda.is_available():\n",
    "    device = torch.device(\"cuda\")\n",
    "    torch.backends.cudnn.benchmark = True\n",
    "else:\n",
    "    device = torch.device(\"cpu\")\n",
    "torch.set_num_threads(8)\n",
    "\n",
    "print(f\"Using device {device}\")"
   ]
  },
  {
   "cell_type": "code",
   "execution_count": 5,
   "id": "94ed63b0-a946-434d-ab31-4b4f5a984491",
   "metadata": {},
   "outputs": [],
   "source": [
    "data = np.concatenate(coord_data)"
   ]
  },
  {
   "cell_type": "code",
   "execution_count": 7,
   "id": "964901f4-41b2-45ce-a731-533633ad5bc6",
   "metadata": {},
   "outputs": [
    {
     "name": "stdout",
     "output_type": "stream",
     "text": [
      "Ready to train\n"
     ]
    },
    {
     "data": {
      "application/json": {
       "ascii": false,
       "bar_format": null,
       "colour": null,
       "elapsed": 0.05054974555969238,
       "initial": 0,
       "n": 0,
       "ncols": null,
       "nrows": 38,
       "postfix": null,
       "prefix": "VAMPNet epoch",
       "rate": null,
       "total": 10,
       "unit": "it",
       "unit_divisor": 1000,
       "unit_scale": false
      },
      "application/vnd.jupyter.widget-view+json": {
       "model_id": "",
       "version_major": 2,
       "version_minor": 0
      },
      "text/plain": [
       "VAMPNet epoch:   0%|          | 0/10 [00:00<?, ?it/s]"
      ]
     },
     "metadata": {},
     "output_type": "display_data"
    }
   ],
   "source": [
    "tau = 1\n",
    "batch_size = 100\n",
    "val_ratio = 0.15\n",
    "network_depth = 8\n",
    "layer_width = 40\n",
    "learning_rate = 5e-4\n",
    "output_size = 10\n",
    "nodes = [data.shape[1]] + [layer_width for _ in range(network_depth)] + [output_size]\n",
    "nb_epoch = 10\n",
    "\n",
    "dataset = dt.util.data.TrajectoryDataset(lagtime=tau, trajectory=data.astype(np.float32))\n",
    "n_val = int(len(dataset)*val_ratio)\n",
    "train_data, val_data = torch.utils.data.random_split(dataset, [len(dataset)-n_val, n_val])\n",
    "\n",
    "lobe = MLP(units=nodes, nonlinearity=nn.ReLU)\n",
    "vampnet = dt.decomposition.deep.VAMPNet(lobe=lobe, learning_rate=learning_rate)\n",
    "\n",
    "loader_train = DataLoader(train_data, batch_size = batch_size, shuffle=True)\n",
    "loader_val = DataLoader(val_data, batch_size=len(val_data), shuffle=False)\n",
    "print('Ready to train')\n",
    "model = vampnet.fit(data_loader=loader_train, n_epochs=nb_epoch, validation_loader=loader_val, progress=tqdm).fetch_model()"
   ]
  },
  {
   "cell_type": "code",
   "execution_count": 8,
   "id": "b700844f-99e2-4fcf-95a8-4fe0c3301430",
   "metadata": {},
   "outputs": [],
   "source": [
    "vnet_features = model.transform(data)"
   ]
  },
  {
   "cell_type": "code",
   "execution_count": 12,
   "id": "cdcc1ac0-f461-4cae-8cb5-f30e2c68be3c",
   "metadata": {},
   "outputs": [
    {
     "data": {
      "text/plain": [
       "Text(0.5, 0, '# Frame')"
      ]
     },
     "execution_count": 12,
     "metadata": {},
     "output_type": "execute_result"
    },
    {
     "data": {
      "image/png": "[encoded data removed]",
      "text/plain": [
       "<Figure size 576x432 with 1 Axes>"
      ]
     },
     "metadata": {
      "needs_background": "light"
     },
     "output_type": "display_data"
    }
   ],
   "source": [
    "plt.rcParams['font.size'] = 16\n",
    "plt.figure(figsize=(8,6))\n",
    "output_size = 2\n",
    "for i in range(0,output_size):\n",
    "    plt.plot(vnet_features[:,i], linewidth=2)\n",
    "plt.ylabel(r'$\\chi$')\n",
    "plt.xlabel('# Frame')"
   ]
  },
  {
   "cell_type": "code",
   "execution_count": 10,
   "id": "92d3b1f8-6ced-41ff-b655-20bc21f284a0",
   "metadata": {},
   "outputs": [
    {
     "data": {
      "image/png": "[encoded data removed]",
      "text/plain": [
       "<Figure size 432x288 with 1 Axes>"
      ]
     },
     "metadata": {
      "needs_background": "light"
     },
     "output_type": "display_data"
    }
   ],
   "source": [
    "plt.loglog(*vampnet.train_scores.T, label='Training')\n",
    "plt.loglog(*vampnet.validation_scores.T, label='validation')\n",
    "plt.xlabel('Step')\n",
    "plt.ylabel('Score')\n",
    "plt.legend();"
   ]
  },
  {
   "cell_type": "code",
   "execution_count": 11,
   "id": "55f11aac-bb49-4529-909d-fdedf87f3086",
   "metadata": {},
   "outputs": [
    {
     "data": {
      "text/plain": [
       "<matplotlib.collections.PathCollection at 0x2b347d97d780>"
      ]
     },
     "execution_count": 11,
     "metadata": {},
     "output_type": "execute_result"
    },
    {
     "data": {
      "image/png": "[encoded data removed]",
      "text/plain": [
       "<Figure size 432x288 with 1 Axes>"
      ]
     },
     "metadata": {
      "needs_background": "light"
     },
     "output_type": "display_data"
    }
   ],
   "source": [
    "plt.scatter(vnet_features[:,0],vnet_features[:,1])"
   ]
  },
  {
   "cell_type": "code",
   "execution_count": null,
   "id": "02a958f7-2a44-447a-bd2e-35f1bef17a95",
   "metadata": {},
   "outputs": [],
   "source": []
  }
 ],
 "metadata": {
  "kernelspec": {
   "display_name": "Python 3 (ipykernel)",
   "language": "python",
   "name": "python3"
  },
  "language_info": {
   "codemirror_mode": {
    "name": "ipython",
    "version": 3
   },
   "file_extension": ".py",
   "mimetype": "text/x-python",
   "name": "python",
   "nbconvert_exporter": "python",
   "pygments_lexer": "ipython3",
   "version": "3.10.5"
  }
 },
 "nbformat": 4,
 "nbformat_minor": 5
}
