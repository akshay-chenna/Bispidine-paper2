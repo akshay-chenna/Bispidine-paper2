{
 "cells": [
  {
   "cell_type": "code",
   "execution_count": null,
   "id": "dc78671a-f84d-4ece-a9bc-5741512b48b2",
   "metadata": {},
   "outputs": [],
   "source": [
    "#%reset\n",
    "#import sys\n",
    "#sys.path.append(\"/home/chemical/phd/chz198152/apps/msm_we\")\n",
    "from msm_we import msm_we\n",
    "import mdtraj as md\n",
    "import tqdm\n",
    "import numpy as np\n",
    "import pyemma\n",
    "import matplotlib.pyplot as plt\n",
    "import ray"
   ]
  },
  {
   "cell_type": "code",
   "execution_count": null,
   "id": "a339a4a8-58d9-4977-8ed8-be70afa88a82",
   "metadata": {},
   "outputs": [],
   "source": [
    "file_paths = [\"./west.h5\"]\n",
    "ref_structure = \"./random_centered_seg.pdb\""
   ]
  },
  {
   "cell_type": "code",
   "execution_count": null,
   "id": "87fe00de-81f1-485f-afae-1631fdb52943",
   "metadata": {},
   "outputs": [],
   "source": [
    "def processCoordinates(self, coords):\n",
    "    if self.dimReduceMethod == \"none\":\n",
    "        nC = np.shape(coords)\n",
    "        nC = nC[0]\n",
    "        data = coords.reshape(nC, 3*self.nAtoms)\n",
    "        return data\n",
    "    elif self.dimReduceMethod == \"pca\":\n",
    "        xt = md.Trajectory(xyz=coords, topology=None)\n",
    "        indCA = self.reference_structure.topology.select('index 0 to 38')\n",
    "        pair1, pair2 = np.meshgrid(indCA, indCA, indexing=\"xy\")\n",
    "        indUT = np.where(np.triu(pair1, k=1) > 0)\n",
    "        pairs = np.transpose(np.array([pair1[indUT], pair2[indUT]])).astype(int)\n",
    "        dist = md.compute_distances(xt, pairs, periodic=True, opt=True)\n",
    "        \n",
    "        return dist\n",
    "msm_we.modelWE.processCoordinates = processCoordinates"
   ]
  },
  {
   "cell_type": "code",
   "execution_count": null,
   "id": "93401ad7-3ddd-4524-a762-128a02059b78",
   "metadata": {},
   "outputs": [],
   "source": [
    "ray.init(num_cpus=4)#, ignore_reinit_error=True)"
   ]
  },
  {
   "cell_type": "code",
   "execution_count": null,
   "id": "825c24ba-9eb4-4914-bf86-3f9ce90fd5d7",
   "metadata": {},
   "outputs": [],
   "source": [
    "model = msm_we.modelWE()\n",
    "model.initialize(\n",
    "    file_paths,\n",
    "    ref_structure,\n",
    "    modelName='bispidine',\n",
    "    basis_pcoord_bounds = [[50, 130], [50, 120]],\n",
    "    target_pcoord_bounds = [[-130, -50], [50,120]],\n",
    "    dim_reduce_method = 'pca',\n",
    "    tau = 1,\n",
    "    pcoord_ndim=2,\n",
    ")"
   ]
  },
  {
   "cell_type": "code",
   "execution_count": null,
   "id": "ec467d81-23c7-42db-8526-9d9a04c5cbce",
   "metadata": {},
   "outputs": [],
   "source": [
    "model.get_iterations()"
   ]
  },
  {
   "cell_type": "code",
   "execution_count": null,
   "id": "f1535a39-216d-4fbe-bd9f-10be1b8ba7ec",
   "metadata": {},
   "outputs": [],
   "source": [
    "model.get_coordSet(last_iter=model.maxIter, streaming=True)"
   ]
  },
  {
   "cell_type": "code",
   "execution_count": null,
   "id": "e9508346-85b5-4a05-8cad-9f58b13ceec5",
   "metadata": {},
   "outputs": [],
   "source": [
    "model.dimReduce()"
   ]
  },
  {
   "cell_type": "code",
   "execution_count": null,
   "id": "06027b74-6550-4d01-8f0d-9d660a742e86",
   "metadata": {},
   "outputs": [],
   "source": [
    "model.cluster_coordinates(n_clusters=1, first_cluster_iter=1, streaming=True, stratified=True, use_ray=True)"
   ]
  },
  {
   "cell_type": "code",
   "execution_count": null,
   "id": "42a451b4-2130-461c-9d1d-842e3ad65349",
   "metadata": {},
   "outputs": [],
   "source": [
    "model.get_fluxMatrix(0, first_iter=0, last_iter=model.maxIter, use_ray=False)"
   ]
  },
  {
   "cell_type": "code",
   "execution_count": null,
   "id": "51b48df5-9f8b-4b1f-a5c1-ca7869068bf9",
   "metadata": {},
   "outputs": [],
   "source": [
    "model.organize_fluxMatrix(use_ray=False)"
   ]
  },
  {
   "cell_type": "code",
   "execution_count": null,
   "id": "0d3d1f86-e914-4a74-944e-9de33e122373",
   "metadata": {},
   "outputs": [],
   "source": [
    "model.get_Tmatrix()"
   ]
  },
  {
   "cell_type": "code",
   "execution_count": null,
   "id": "3f051005-9053-4e9b-815e-2ada5bc4732a",
   "metadata": {},
   "outputs": [],
   "source": [
    "model.get_steady_state()\n",
    "model.get_steady_state_target_flux()"
   ]
  },
  {
   "cell_type": "code",
   "execution_count": null,
   "id": "24f4ab4a-2b2e-47d0-98af-940029f0611d",
   "metadata": {},
   "outputs": [],
   "source": [
    "print(f\"Steady-state target flux is {model.JtargetSS:.2e}\")"
   ]
  },
  {
   "cell_type": "code",
   "execution_count": null,
   "id": "96156ce8-a6c6-445a-852d-0523214ad402",
   "metadata": {},
   "outputs": [],
   "source": [
    "model.plot_flux(suppress_validation=True)"
   ]
  },
  {
   "cell_type": "code",
   "execution_count": null,
   "id": "585952d4-e0d4-4b10-b38e-41332ad2f89b",
   "metadata": {},
   "outputs": [],
   "source": [
    "model.get_committor()\n",
    "model.plot_committor()"
   ]
  },
  {
   "cell_type": "code",
   "execution_count": null,
   "id": "cd40911e-533e-456f-999a-c7db005325d5",
   "metadata": {},
   "outputs": [],
   "source": [
    "model.plot_flux_committor(suppress_validation=True)\n",
    "plt.gca().set_xscale('linear')"
   ]
  },
  {
   "cell_type": "markdown",
   "id": "d755331b-b7ab-4b7b-a290-c3334b3b711d",
   "metadata": {
    "tags": []
   },
   "source": [
    "## Modify h5 files\n",
    "Removes solvent coordinates"
   ]
  },
  {
   "cell_type": "code",
   "execution_count": null,
   "id": "a99560f5-402e-419c-a4b3-d62f4cb0ddca",
   "metadata": {},
   "outputs": [],
   "source": [
    "import h5py\n",
    "import numpy as np"
   ]
  },
  {
   "cell_type": "code",
   "execution_count": null,
   "id": "69d7d56b-1afe-4bc3-9982-86a84c6e4207",
   "metadata": {},
   "outputs": [],
   "source": [
    "f1 = h5py.File('bispidine-fluxmatrix-_s1_e200_lag0_clust2592.h5', 'r+')"
   ]
  },
  {
   "cell_type": "code",
   "execution_count": null,
   "id": "e068a263-a4c9-49fc-9334-f0c8fc7a43a5",
   "metadata": {},
   "outputs": [],
   "source": [
    "fluxmatrix = np.array(f1['fluxMatrix'])"
   ]
  },
  {
   "cell_type": "code",
   "execution_count": null,
   "id": "08283357-a45b-4123-bd66-6ccfea322e86",
   "metadata": {},
   "outputs": [],
   "source": [
    "fluxmatrix_shape = np.shape(fluxmatrix)"
   ]
  },
  {
   "cell_type": "code",
   "execution_count": null,
   "id": "78fc460d-065f-43e5-8f14-2d548cdccf4e",
   "metadata": {},
   "outputs": [],
   "source": [
    "where = np.where(fluxmatrix !=0)"
   ]
  },
  {
   "cell_type": "code",
   "execution_count": null,
   "id": "adf5cf8a-88e1-45c4-ba9c-0892cc217fd0",
   "metadata": {},
   "outputs": [],
   "source": [
    "plt.plot(x)"
   ]
  },
  {
   "cell_type": "code",
   "execution_count": null,
   "id": "44dda415-382c-440b-9bc1-c0ddc874c379",
   "metadata": {},
   "outputs": [],
   "source": [
    "fluxes_out = np.sum(fluxmatrix, 1)"
   ]
  },
  {
   "cell_type": "code",
   "execution_count": null,
   "id": "45fa1131-0830-4bbc-baea-f58ac2037f5a",
   "metadata": {},
   "outputs": [],
   "source": [
    "for state_idx in range(fluxmatrix_shape[0]):\n",
    "    if fluxes_out[state_idx] > 0:\n",
    "        fluxmatrix[state_idx, :] = (fluxmatrix[state_idx, :] / fluxes_out[state_idx])\n",
    "    if fluxes_out[state_idx] == 0.0:\n",
    "        fluxmatrix[state_idx, state_idx] = 1.0"
   ]
  },
  {
   "cell_type": "markdown",
   "id": "26a170a6-3df0-4bd4-85da-f6f0e71d5734",
   "metadata": {
    "tags": []
   },
   "source": [
    "## Direct model"
   ]
  },
  {
   "cell_type": "code",
   "execution_count": null,
   "id": "e8d13a7d-5094-4eff-9bf5-111ebf722d58",
   "metadata": {},
   "outputs": [],
   "source": [
    "%reset\n",
    "import sys\n",
    "sys.path.append(\"/home/chemical/phd/chz198152/apps/msm_we\")\n",
    "from msm_we import msm_we\n",
    "import mdtraj as md\n",
    "import tqdm\n",
    "import numpy as np\n",
    "import pyemma\n",
    "import matplotlib.pyplot as plt\n",
    "import ray\n",
    "\n",
    "file_paths = [\"./west.h5\"]\n",
    "ref_structure = \"./random_centered_seg.pdb\""
   ]
  },
  {
   "cell_type": "code",
   "execution_count": null,
   "id": "6a16a940-3e0a-4a1c-8feb-f53f8f6ab098",
   "metadata": {},
   "outputs": [],
   "source": [
    "def processCoordinates(self, coords):\n",
    "    if self.dimReduceMethod == \"none\":\n",
    "        nC = np.shape(coords)\n",
    "        nC = nC[0]\n",
    "        data = coords.reshape(nC, 3*self.nAtoms)\n",
    "        return data\n",
    "    elif self.dimReduceMethod == \"pca\":\n",
    "        xt = md.Trajectory(xyz=coords, topology=None)\n",
    "        indCA = self.reference_structure.topology.select('index 0 to 38')\n",
    "        pair1, pair2 = np.meshgrid(indCA, indCA, indexing=\"xy\")\n",
    "        indUT = np.where(np.triu(pair1, k=1) > 0)\n",
    "        pairs = np.transpose(np.array([pair1[indUT], pair2[indUT]])).astype(int)\n",
    "        dist = md.compute_distances(xt, pairs, periodic=True, opt=True)\n",
    "        \n",
    "        return dist\n",
    "msm_we.modelWE.processCoordinates = processCoordinates"
   ]
  },
  {
   "cell_type": "code",
   "execution_count": null,
   "id": "17972161-0116-4e09-b403-fd6384647f51",
   "metadata": {
    "tags": []
   },
   "outputs": [],
   "source": [
    "model = msm_we.modelWE()\n",
    "\n",
    "model.build_analyze_model(\n",
    "    ray_kwargs = {'num_cpus': 4, 'include_dashboard': False},\n",
    "    file_paths = file_paths,\n",
    "    ref_struct = ref_structure,\n",
    "    modelName='bispidine',\n",
    "    basis_pcoord_bounds = [[50, 130],[50, 130]],\n",
    "    target_pcoord_bounds = [[-130, -50],[50, 130]],\n",
    "    dimreduce_method = 'pca',\n",
    "    tau = 1,\n",
    "    n_clusters = 2,\n",
    "    stratified=True,\n",
    "    streaming=True,\n",
    "    use_ray=True,\n",
    "    show_live_display=True,\n",
    "    fluxmatrix_iters=[1,-1]\n",
    ")"
   ]
  },
  {
   "cell_type": "code",
   "execution_count": null,
   "id": "3174649d-f5ea-41d4-8024-e55f7c87f51f",
   "metadata": {},
   "outputs": [],
   "source": [
    "model.pcoord_ndim"
   ]
  },
  {
   "cell_type": "code",
   "execution_count": null,
   "id": "d92a2aa3-4439-41ea-9743-23ac309a4423",
   "metadata": {},
   "outputs": [],
   "source": []
  }
 ],
 "metadata": {
  "kernelspec": {
   "display_name": "Python 3 (ipykernel)",
   "language": "python",
   "name": "python3"
  },
  "language_info": {
   "codemirror_mode": {
    "name": "ipython",
    "version": 3
   },
   "file_extension": ".py",
   "mimetype": "text/x-python",
   "name": "python",
   "nbconvert_exporter": "python",
   "pygments_lexer": "ipython3",
   "version": "3.9.13"
  }
 },
 "nbformat": 4,
 "nbformat_minor": 5
}
